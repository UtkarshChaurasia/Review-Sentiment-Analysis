{
 "cells": [
  {
   "cell_type": "markdown",
   "metadata": {},
   "source": [
    "## 1: Introduction\n",
    "\n",
    "**Sentiment Analysis with Keras and TensorFlow**.\n",
    "\n",
    "![Sentiment Analysis](basic_sentiment_analysis.png)\n",
    "\n",
    "\n",
    "## 2: The IMDB Reviews Dataset\n",
    "____\n",
    "Importing IMDB dataset which is preprocessed and available in keras.\n",
    "____"
   ]
  },
  {
   "cell_type": "code",
   "execution_count": 19,
   "metadata": {},
   "outputs": [],
   "source": [
    "from tensorflow.python.keras.datasets import imdb\n",
    "(x_train, y_train), (x_test, y_test) = imdb.load_data(num_words = 10000)#most common 10000 words from the bag of words will be used "
   ]
  },
  {
   "cell_type": "code",
   "execution_count": 20,
   "metadata": {},
   "outputs": [
    {
     "name": "stdout",
     "output_type": "stream",
     "text": [
      "[1, 14, 22, 16, 43, 530, 973, 1622, 1385, 65, 458, 4468, 66, 3941, 4, 173, 36, 256, 5, 25, 100, 43, 838, 112, 50, 670, 2, 9, 35, 480, 284, 5, 150, 4, 172, 112, 167, 2, 336, 385, 39, 4, 172, 4536, 1111, 17, 546, 38, 13, 447, 4, 192, 50, 16, 6, 147, 2025, 19, 14, 22, 4, 1920, 4613, 469, 4, 22, 71, 87, 12, 16, 43, 530, 38, 76, 15, 13, 1247, 4, 22, 17, 515, 17, 12, 16, 626, 18, 2, 5, 62, 386, 12, 8, 316, 8, 106, 5, 4, 2223, 5244, 16, 480, 66, 3785, 33, 4, 130, 12, 16, 38, 619, 5, 25, 124, 51, 36, 135, 48, 25, 1415, 33, 6, 22, 12, 215, 28, 77, 52, 5, 14, 407, 16, 82, 2, 8, 4, 107, 117, 5952, 15, 256, 4, 2, 7, 3766, 5, 723, 36, 71, 43, 530, 476, 26, 400, 317, 46, 7, 4, 2, 1029, 13, 104, 88, 4, 381, 15, 297, 98, 32, 2071, 56, 26, 141, 6, 194, 7486, 18, 4, 226, 22, 21, 134, 476, 26, 480, 5, 144, 30, 5535, 18, 51, 36, 28, 224, 92, 25, 104, 4, 226, 65, 16, 38, 1334, 88, 12, 16, 283, 5, 16, 4472, 113, 103, 32, 15, 16, 5345, 19, 178, 32]\n"
     ]
    }
   ],
   "source": [
    "print(x_train[0])"
   ]
  },
  {
   "cell_type": "code",
   "execution_count": 21,
   "metadata": {},
   "outputs": [
    {
     "name": "stdout",
     "output_type": "stream",
     "text": [
      "1\n"
     ]
    }
   ],
   "source": [
    "print(y_train[0])"
   ]
  },
  {
   "cell_type": "code",
   "execution_count": 22,
   "metadata": {},
   "outputs": [],
   "source": [
    "class_names = ['Negative', 'Positive']"
   ]
  },
  {
   "cell_type": "code",
   "execution_count": 23,
   "metadata": {},
   "outputs": [
    {
     "name": "stdout",
     "output_type": "stream",
     "text": [
      "4822\n"
     ]
    }
   ],
   "source": [
    "word_index = imdb.get_word_index() #returns numeric token values of particular word_index. So this is a dictionary with key value pairs\n",
    "print(word_index['hello'])"
   ]
  },
  {
   "cell_type": "markdown",
   "metadata": {},
   "source": [
    "## 3: Decoding the Reviews\n",
    "___\n",
    "Decoding the reviews to have a look and idea of type of reviews.\n",
    "___\n"
   ]
  },
  {
   "cell_type": "code",
   "execution_count": 24,
   "metadata": {},
   "outputs": [],
   "source": [
    "reverse_word_index = dict((value, key) for key, value in word_index.items()) #interchanging key and value\n",
    "\n",
    "def decode(review):\n",
    "    text = ''\n",
    "    for i in review:\n",
    "        text += reverse_word_index[i]\n",
    "        text += ' '\n",
    "    return text"
   ]
  },
  {
   "cell_type": "code",
   "execution_count": 25,
   "metadata": {},
   "outputs": [
    {
     "data": {
      "text/plain": [
       "\"the as you with out themselves powerful lets loves their becomes reaching had journalist of lot from anyone to have after out atmosphere never more room and it so heart shows to years of every never going and help moments or of every chest visual movie except her was several of enough more with is now current film as you of mine potentially unfortunately of you than him that with out themselves her get for was camp of you movie sometimes movie that with scary but and to story wonderful that in seeing in character to of 70s musicians with heart had shadows they of here that with her serious to have does when from why what have critics they is you that isn't one will very to as itself with other and in of seen over landed for anyone of and br show's to whether from than out themselves history he name half some br of and odd was two most of mean for 1 any an boat she he should is thought frog but of script you not while history he heart to real at barrel but when from one bit then have two of script their with her nobody most that with wasn't to with armed acting watch an for with heartfelt film want an \""
      ]
     },
     "execution_count": 25,
     "metadata": {},
     "output_type": "execute_result"
    }
   ],
   "source": [
    "decode(x_train[0])"
   ]
  },
  {
   "cell_type": "code",
   "execution_count": 26,
   "metadata": {},
   "outputs": [
    {
     "name": "stdout",
     "output_type": "stream",
     "text": [
      "Len of 1st training example:  218\n",
      "Len of 2nd training example:  189\n",
      "Len of 1st test example:  68\n",
      "Len of 2nd test example:  260\n"
     ]
    }
   ],
   "source": [
    "def show_len():\n",
    "    print('Len of 1st training example: ', len(x_train[0]))\n",
    "    print('Len of 2nd training example: ', len(x_train[1]))\n",
    "    print('Len of 1st test example: ', len(x_test[0]))\n",
    "    print('Len of 2nd test example: ', len(x_test[1]))\n",
    "show_len()"
   ]
  },
  {
   "cell_type": "markdown",
   "metadata": {},
   "source": [
    "\n",
    "## 4: Padding the Examples\n",
    "___\n",
    "Since reviews are not of equal lengths, it is necessary to make them of equal length before feeding them to neural networks.\n",
    "___\n"
   ]
  },
  {
   "cell_type": "code",
   "execution_count": 27,
   "metadata": {},
   "outputs": [
    {
     "data": {
      "text/plain": [
       "1"
      ]
     },
     "execution_count": 27,
     "metadata": {},
     "output_type": "execute_result"
    }
   ],
   "source": [
    "word_index['the']"
   ]
  },
  {
   "cell_type": "code",
   "execution_count": 28,
   "metadata": {},
   "outputs": [],
   "source": [
    "from tensorflow.python.keras.preprocessing.sequence import pad_sequences\n",
    "\n",
    "x_train = pad_sequences(x_train, value = word_index['the'], padding = 'post', maxlen = 256)\n",
    "x_test = pad_sequences(x_test, value = word_index['the'], padding = 'post', maxlen = 256)"
   ]
  },
  {
   "cell_type": "code",
   "execution_count": 29,
   "metadata": {},
   "outputs": [
    {
     "name": "stdout",
     "output_type": "stream",
     "text": [
      "Len of 1st training example:  256\n",
      "Len of 2nd training example:  256\n",
      "Len of 1st test example:  256\n",
      "Len of 2nd test example:  256\n"
     ]
    }
   ],
   "source": [
    "show_len()"
   ]
  },
  {
   "cell_type": "code",
   "execution_count": 30,
   "metadata": {},
   "outputs": [
    {
     "data": {
      "text/plain": [
       "\"the as you with out themselves powerful lets loves their becomes reaching had journalist of lot from anyone to have after out atmosphere never more room and it so heart shows to years of every never going and help moments or of every chest visual movie except her was several of enough more with is now current film as you of mine potentially unfortunately of you than him that with out themselves her get for was camp of you movie sometimes movie that with scary but and to story wonderful that in seeing in character to of 70s musicians with heart had shadows they of here that with her serious to have does when from why what have critics they is you that isn't one will very to as itself with other and in of seen over landed for anyone of and br show's to whether from than out themselves history he name half some br of and odd was two most of mean for 1 any an boat she he should is thought frog but of script you not while history he heart to real at barrel but when from one bit then have two of script their with her nobody most that with wasn't to with armed acting watch an for with heartfelt film want an the the the the the the the the the the the the the the the the the the the the the the the the the the the the the the the the the the the the the the \""
      ]
     },
     "execution_count": 30,
     "metadata": {},
     "output_type": "execute_result"
    }
   ],
   "source": [
    "decode(x_train[0])"
   ]
  },
  {
   "cell_type": "markdown",
   "metadata": {},
   "source": [
    "## Word Embeddings\n",
    "___\n",
    "Explanation and Difference between One Hot Encoding and Word Embedding\n",
    "___\n",
    "Word Embeddings:\n",
    "\n",
    "![Word Embeddings](word_embeddings.png)\n",
    "\n",
    "Feature Vectors:\n",
    "\n",
    "![Learned Embeddings](embeddings.png)\n",
    "\n",
    "\n",
    "## 6: Creating and Training the Model\n",
    "___\n",
    "Creating and Training model using Adam Optimizer having Embedding, GlobalAveragePooling1D, and 2 Dense layers.\n",
    "___"
   ]
  },
  {
   "cell_type": "code",
   "execution_count": 31,
   "metadata": {},
   "outputs": [
    {
     "name": "stdout",
     "output_type": "stream",
     "text": [
      "Model: \"sequential_1\"\n",
      "_________________________________________________________________\n",
      "Layer (type)                 Output Shape              Param #   \n",
      "=================================================================\n",
      "embedding_1 (Embedding)      (None, None, 16)          160000    \n",
      "_________________________________________________________________\n",
      "global_average_pooling1d_1 ( (None, 16)                0         \n",
      "_________________________________________________________________\n",
      "dense_2 (Dense)              (None, 16)                272       \n",
      "_________________________________________________________________\n",
      "dense_3 (Dense)              (None, 1)                 17        \n",
      "=================================================================\n",
      "Total params: 160,289\n",
      "Trainable params: 160,289\n",
      "Non-trainable params: 0\n",
      "_________________________________________________________________\n"
     ]
    }
   ],
   "source": [
    "from tensorflow.python.keras.models import Sequential\n",
    "from tensorflow.python.keras.layers import Dense, Embedding, GlobalAveragePooling1D #using 3 different layers\n",
    "\n",
    "model = Sequential([\n",
    "    Embedding(10000, 16), #embedding can only be used as 1st layer or input layer\n",
    "    GlobalAveragePooling1D(), #will convert feature representation of 10000*16 into 16D vector for each batch then it can be fed into a dense layer\n",
    "    Dense(16, activation ='relu'),\n",
    "    Dense(1, activation = 'sigmoid') #output layer-sigmoid gives binary classification output\n",
    "])\n",
    "\n",
    "model.compile(\n",
    "    loss = 'binary_crossentropy',\n",
    "    optimizer = 'adam',\n",
    "    metrics = ['accuracy']\n",
    ")\n",
    "\n",
    "model.summary()"
   ]
  },
  {
   "cell_type": "code",
   "execution_count": 32,
   "metadata": {},
   "outputs": [
    {
     "name": "stdout",
     "output_type": "stream",
     "text": [
      "Train on 20000 samples, validate on 5000 samples\n",
      "Epoch 1/20\n",
      "20000/20000 [==============================] - 3s 125us/sample - loss: 0.5527 - accuracy: 0.7677 - val_loss: 0.3651 - val_accuracy: 0.8612\n",
      "Epoch 2/20\n",
      "20000/20000 [==============================] - 2s 103us/sample - loss: 0.2895 - accuracy: 0.8910 - val_loss: 0.2990 - val_accuracy: 0.8764\n",
      "Epoch 3/20\n",
      "20000/20000 [==============================] - 2s 103us/sample - loss: 0.2215 - accuracy: 0.9184 - val_loss: 0.2820 - val_accuracy: 0.8872\n",
      "Epoch 4/20\n",
      "20000/20000 [==============================] - 2s 106us/sample - loss: 0.1813 - accuracy: 0.9342 - val_loss: 0.2831 - val_accuracy: 0.8864\n",
      "Epoch 5/20\n",
      "20000/20000 [==============================] - 2s 101us/sample - loss: 0.1535 - accuracy: 0.9457 - val_loss: 0.2897 - val_accuracy: 0.8894\n",
      "Epoch 6/20\n",
      "20000/20000 [==============================] - 2s 106us/sample - loss: 0.1309 - accuracy: 0.9556 - val_loss: 0.3168 - val_accuracy: 0.8830\n",
      "Epoch 7/20\n",
      "20000/20000 [==============================] - 2s 106us/sample - loss: 0.1127 - accuracy: 0.9628 - val_loss: 0.3254 - val_accuracy: 0.8822\n",
      "Epoch 8/20\n",
      "20000/20000 [==============================] - 2s 106us/sample - loss: 0.0969 - accuracy: 0.9704 - val_loss: 0.3573 - val_accuracy: 0.8810\n",
      "Epoch 9/20\n",
      "20000/20000 [==============================] - 2s 102us/sample - loss: 0.0836 - accuracy: 0.9754 - val_loss: 0.3790 - val_accuracy: 0.8800\n",
      "Epoch 10/20\n",
      "20000/20000 [==============================] - 2s 99us/sample - loss: 0.0707 - accuracy: 0.9801 - val_loss: 0.4074 - val_accuracy: 0.8790\n",
      "Epoch 11/20\n",
      "20000/20000 [==============================] - ETA: 0s - loss: 0.0583 - accuracy: 0.98 - 2s 103us/sample - loss: 0.0585 - accuracy: 0.9848 - val_loss: 0.4378 - val_accuracy: 0.8748\n",
      "Epoch 12/20\n",
      "20000/20000 [==============================] - 2s 104us/sample - loss: 0.0495 - accuracy: 0.9881 - val_loss: 0.4711 - val_accuracy: 0.8762\n",
      "Epoch 13/20\n",
      "20000/20000 [==============================] - 2s 104us/sample - loss: 0.0419 - accuracy: 0.9904 - val_loss: 0.5099 - val_accuracy: 0.8738\n",
      "Epoch 14/20\n",
      "20000/20000 [==============================] - 2s 123us/sample - loss: 0.0347 - accuracy: 0.9922 - val_loss: 0.5474 - val_accuracy: 0.8736\n",
      "Epoch 15/20\n",
      "20000/20000 [==============================] - 2s 106us/sample - loss: 0.0277 - accuracy: 0.9944 - val_loss: 0.5853 - val_accuracy: 0.8704\n",
      "Epoch 16/20\n",
      "20000/20000 [==============================] - 2s 109us/sample - loss: 0.0224 - accuracy: 0.9954 - val_loss: 0.6393 - val_accuracy: 0.8706\n",
      "Epoch 17/20\n",
      "20000/20000 [==============================] - 2s 109us/sample - loss: 0.0183 - accuracy: 0.9970 - val_loss: 0.6776 - val_accuracy: 0.8672\n",
      "Epoch 18/20\n",
      "20000/20000 [==============================] - 2s 108us/sample - loss: 0.0160 - accuracy: 0.9972 - val_loss: 0.7186 - val_accuracy: 0.8664\n",
      "Epoch 19/20\n",
      "20000/20000 [==============================] - 2s 108us/sample - loss: 0.0121 - accuracy: 0.9984 - val_loss: 0.7664 - val_accuracy: 0.8650\n",
      "Epoch 20/20\n",
      "20000/20000 [==============================] - 2s 109us/sample - loss: 0.0096 - accuracy: 0.9987 - val_loss: 0.8187 - val_accuracy: 0.8644\n"
     ]
    }
   ],
   "source": [
    "\"\"\"from tensorflow.python.keras.callbacks import LambdaCallback\n",
    "simple_log = LambdaCallback(on_epoch_end = lambda e, l: print(e, end = '.'))\"\"\"\n",
    "\n",
    "\n",
    "E = 20\n",
    "\n",
    "h = model.fit(\n",
    "    x_train, y_train,\n",
    "    validation_split = 0.2,\n",
    "    epochs = E\n",
    ")"
   ]
  },
  {
   "cell_type": "markdown",
   "metadata": {},
   "source": [
    "## 7: Predictions and Evaluation\n",
    "___\n",
    "Plotting the graph of Training dataset accuracy and Validation dataset accuracy and finding out accuracy percentage of the model.\n",
    "___\n"
   ]
  },
  {
   "cell_type": "code",
   "execution_count": 17,
   "metadata": {},
   "outputs": [
    {
     "data": {
      "image/png": "[encoded data removed]",
      "text/plain": [
       "<Figure size 432x288 with 1 Axes>"
      ]
     },
     "metadata": {
      "needs_background": "light"
     },
     "output_type": "display_data"
    }
   ],
   "source": [
    "import  matplotlib.pyplot as plt\n",
    "%matplotlib inline\n",
    "\n",
    "\n",
    "plt.plot(range(E), h.history['acc'], label = 'Training')\n",
    "plt.plot(range(E), h.history['val_acc'], label = 'Validation')\n",
    "plt.legend()\n",
    "plt.show()"
   ]
  },
  {
   "cell_type": "code",
   "execution_count": 18,
   "metadata": {},
   "outputs": [
    {
     "name": "stdout",
     "output_type": "stream",
     "text": [
      "25000/25000 [==============================] - 1s 44us/step\n",
      "Test set accuracy:  84.08\n"
     ]
    }
   ],
   "source": [
    "loss, acc = model.evaluate(x_test, y_test)\n",
    "print('Test set accuracy: ', acc*100)"
   ]
  },
  {
   "cell_type": "code",
   "execution_count": 19,
   "metadata": {},
   "outputs": [
    {
     "name": "stdout",
     "output_type": "stream",
     "text": [
      "Negative\n"
     ]
    }
   ],
   "source": [
    "import numpy as np\n",
    "\n",
    "p = model.predict(np.expand_dims(x_test[0], axis = 0)) #expanding the dimension of first example to make it suitable for our predict() method\n",
    "print(class_names[np.argmax(p[0])])\n"
   ]
  },
  {
   "cell_type": "code",
   "execution_count": 20,
   "metadata": {},
   "outputs": [
    {
     "data": {
      "text/plain": [
       "\"the wonder own as by is sequence i i and and to of hollywood br of down shouting getting boring of ever it sadly sadly sadly i i was then does don't close faint after one carry as by are be favourites all family turn in does as three part in another some to be probably with world and her an have faint beginning own as is sequence the the the the the the the the the the the the the the the the the the the the the the the the the the the the the the the the the the the the the the the the the the the the the the the the the the the the the the the the the the the the the the the the the the the the the the the the the the the the the the the the the the the the the the the the the the the the the the the the the the the the the the the the the the the the the the the the the the the the the the the the the the the the the the the the the the the the the the the the the the the the the the the the the the the the the the the the the the the the the the the the the the the the the the the the the the the the the the the the the the the the the the the the the the the the \""
      ]
     },
     "execution_count": 20,
     "metadata": {},
     "output_type": "execute_result"
    }
   ],
   "source": [
    "decode(x_test[0])"
   ]
  },
  {
   "cell_type": "code",
   "execution_count": null,
   "metadata": {},
   "outputs": [],
   "source": []
  }
 ],
 "metadata": {
  "kernelspec": {
   "display_name": "Python 3",
   "language": "python",
   "name": "python3"
  },
  "language_info": {
   "codemirror_mode": {
    "name": "ipython",
    "version": 3
   },
   "file_extension": ".py",
   "mimetype": "text/x-python",
   "name": "python",
   "nbconvert_exporter": "python",
   "pygments_lexer": "ipython3",
   "version": "3.7.7"
  }
 },
 "nbformat": 4,
 "nbformat_minor": 2
}
